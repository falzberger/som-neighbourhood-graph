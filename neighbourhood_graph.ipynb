{
 "cells": [
  {
   "cell_type": "markdown",
   "id": "superb-tourism",
   "metadata": {
    "pycharm": {
     "name": "#%% md\n"
    }
   },
   "source": [
    "# SOM Neighbourhood Graph Visualization\n",
    "\n",
    "This notebook implements radius- and knn-based Neighbourhood Graph visualizations. \n",
    "\n",
    "Students: \n",
    "- Alexander Falzberger (01273054)\n",
    "- Sebastian Strumbelj (12007910)"
   ]
  },
  {
   "cell_type": "markdown",
   "id": "destroyed-convergence",
   "metadata": {
    "pycharm": {
     "name": "#%% md\n"
    }
   },
   "source": [
    "# Implementation\n",
    "First, we define a function that computes all neighbours for every input vector.\n",
    "\n",
    "The input data must be specified as a numpy array, where each row represents a data sample.\n",
    "The method is specified with a string that is either 'knn' or 'radius'.\n",
    "Additionally, the parameters for the method can be specified, their default values are\n",
    "k=3 for knn-based neighbours and r=0.25 for radius-based neighbours."
   ]
  },
  {
   "cell_type": "code",
   "execution_count": null,
   "id": "wrapped-recipient",
   "metadata": {
    "jupyter": {
     "outputs_hidden": false
    },
    "pycharm": {
     "name": "#%%\n"
    }
   },
   "outputs": [],
   "source": [
    "import numpy as np\n",
    "from scipy.spatial import distance_matrix\n",
    "\n",
    "def compute_neighbours(input_data:np.ndarray, method:str, k=3, r=0.25) -> dict:\n",
    "    # abort if method is not supported\n",
    "    assert method in ['radius', 'knn']\n",
    "\n",
    "    # create pairwise distances\n",
    "    distances = distance_matrix(input_data, input_data)\n",
    "\n",
    "    # we map each index of an input vector to all neighbour indices\n",
    "    n_inputs = input_data.shape[0]\n",
    "    result = {}\n",
    "    for input_idx in range(n_inputs):\n",
    "        if method == 'radius':\n",
    "            # filter all elements that are in the radius neighborhood\n",
    "            result[input_idx] = [idx for (idx, dist) in enumerate(distances[:, input_idx]) if dist <= r and idx != input_idx]\n",
    "\n",
    "        elif method == 'knn':\n",
    "            # take the k nearest neighbors which correspond to the k first entries in the sorted list\n",
    "            sorted_distances = sorted(enumerate(distances[:, input_idx]), key=lambda idx_and_dist: idx_and_dist[1])\n",
    "            knn = list(map(lambda idx_and_dist: idx_and_dist[0], sorted_distances))[:k+1]\n",
    "            if input_idx in knn:\n",
    "                # it can happen that this is not the case, e.g. when k=1 and there are 3 input vectors with the exact\n",
    "                # same coordinates. Then we can simply continue, as this does not affect subsequent program logic.\n",
    "                knn.remove(input_idx)\n",
    "            result[input_idx] = knn\n",
    "\n",
    "    return result"
   ]
  },
  {
   "cell_type": "markdown",
   "id": "rising-prior",
   "metadata": {
    "pycharm": {
     "name": "#%% md\n"
    }
   },
   "source": [
    "Next we implement a function that provides us with the coordinates of the lines that should be displayed in the\n",
    "visualization. I.e. each line represents two neighbours in input space that are not mapped to the same SOM unit.\n",
    "The function uses a trained SOM, the input data and the neighbour information (as calculated in `compute_neighbours`)."
   ]
  },
  {
   "cell_type": "code",
   "execution_count": null,
   "id": "breeding-writing",
   "metadata": {
    "jupyter": {
     "outputs_hidden": false
    },
    "pycharm": {
     "name": "#%%\n"
    }
   },
   "outputs": [],
   "source": [
    "def compute_graph_lines(som_weights: np.ndarray, x_dim:int, y_dim:int, input_data: np.ndarray, neighbours: dict) -> (list, list):\n",
    "    x_coords, y_coords = [], []\n",
    "    som_weights = np.array(som_weights).reshape((x_dim, y_dim, input_data.shape[1]), order='F')\n",
    "\n",
    "    # first, calculate the winning SOM unit for every input vector\n",
    "    n_inputs = input_data.shape[0]\n",
    "    winners = {} # map input_vector index to winning SOM unit\n",
    "    for input_idx in range(n_inputs):\n",
    "        winner = np.argmin(np.sqrt(np.sum(np.power(som_weights - input_data[input_idx], 2), axis=2)))\n",
    "        winners[input_idx] = winner\n",
    "\n",
    "    # then, use those to determine the lines for the neighborhood graphs\n",
    "    # iterate over all input vectors and add a line to their respective neighbours\n",
    "    for (input_idx, neighbours) in neighbours.items():\n",
    "        win_neuron = winners[input_idx]\n",
    "        win_neuron_unravel = np.unravel_index(win_neuron, (x_dim, y_dim))\n",
    "        for neighbour in neighbours:\n",
    "            neighbour_neuron = winners[neighbour]\n",
    "            if win_neuron != neighbour_neuron:\n",
    "                neighbour_neuron_unravel = np.unravel_index(neighbour_neuron, (x_dim, y_dim))\n",
    "                x_coords += [win_neuron_unravel[0], neighbour_neuron_unravel[0], None]\n",
    "                y_coords += [win_neuron_unravel[1], neighbour_neuron_unravel[1], None]\n",
    "\n",
    "    return x_coords, y_coords"
   ]
  },
  {
   "cell_type": "markdown",
   "id": "developing-tooth",
   "metadata": {
    "pycharm": {
     "name": "#%% md\n"
    }
   },
   "source": [
    "Before we now show the first example of our neighbourhood graph visualization, we define a few helper functions\n",
    "for visualizing SOMs based on a given list of weights and its dimensions. Most of these functions were provided\n",
    "in the assignment's template, we adapted it as little as possible to implement the function `neighbourhood_graph`."
   ]
  },
  {
   "cell_type": "code",
   "execution_count": null,
   "id": "mysterious-sight",
   "metadata": {
    "jupyter": {
     "outputs_hidden": false
    },
    "pycharm": {
     "name": "#%%\n"
    }
   },
   "outputs": [],
   "source": [
    "import plotly.graph_objects as go\n",
    "from ipywidgets import HBox\n",
    "\n",
    "\n",
    "class SomViz:\n",
    "    def __init__(self, weights, y:int, x:int, width=700, height=700):\n",
    "        self.weights = weights\n",
    "        self.y = y\n",
    "        self.x = x\n",
    "        self.width = width\n",
    "        self.height = height\n",
    "\n",
    "    # Plots a Neighbourhood Graph visualization for the SOM with which the SomViz object has been initialised.\n",
    "    # If an existing FigureWidget is provided in the parameter 'base_vis', the visualization is added as an overlay.\n",
    "    # Parameter 'method' must be either 'knn' or 'radius', their default parameter values are k=3 and r=0.25, respectively.\n",
    "    def neighbourhood_graph(self, input_data: np.ndarray, method:str, k=3, r=0.25, base_vis: go.FigureWidget = None,\n",
    "                            color:str = 'rgb(210, 210, 210)', width:int = 2,\n",
    "                            title:str = 'Neighbourhood Graph Visualization'):\n",
    "        neighbours = compute_neighbours(input_data, method, k, r)\n",
    "        x_coords, y_coords = compute_graph_lines(self.weights, self.x, self.y, input_data, neighbours)\n",
    "        plot = go.Scatter(x=x_coords, y=y_coords, mode='lines', line=dict(color=color, width=width), hoverinfo='none')\n",
    "\n",
    "        if base_vis is None:\n",
    "            return go.FigureWidget(plot, layout=go.Layout(width=self.width, height=self.height, title={'text':title, 'x':0.5}))\n",
    "        else:\n",
    "            # do neighbourhood graph visualization as an overlay if a base visualization is provided\n",
    "            base_vis.add_trace(plot)\n",
    "            return base_vis\n",
    "\n",
    "    def umatrix(self, som_map=None, color=\"Viridis\", interp = \"best\", title=\"\"):\n",
    "        um = np.zeros((self.y * self.x, 1))\n",
    "        neuron_locs = list()\n",
    "        for i in range(self.y):\n",
    "            for j in range(self.x):\n",
    "                neuron_locs.append(np.array([i, j]))\n",
    "        neuron_distmat = distance_matrix(neuron_locs,neuron_locs)\n",
    "\n",
    "        for i in range(self.y * self.x):\n",
    "            neighbor_idxs = neuron_distmat[i] <= 1\n",
    "            neighbor_weights = self.weights[neighbor_idxs]\n",
    "            um[i] = distance_matrix(np.expand_dims(self.weights[i], 0), neighbor_weights).mean()\n",
    "\n",
    "        if som_map is None : return self.plot(um.reshape((self.y, self.x)), color=color, interp=interp, title=title)\n",
    "        else: som_map.data[0].z = um.reshape(self.y,self.x)\n",
    "\n",
    "    def hithist(self, input_vectors: np.ndarray, som_map=None, color='RdBu', interp = \"best\", title=\"\"):\n",
    "        hist = [0] * self.x * self.y\n",
    "        for v in input_vectors:\n",
    "            position = np.argmin(np.sqrt(np.sum(np.power(self.weights - v, 2), axis=1)))\n",
    "            hist[position] += 1\n",
    "\n",
    "        if som_map is None : return self.plot(np.array(hist).reshape(self.y,self.x), color=color, interp=interp, title=title)\n",
    "        else:  som_map.data[0].z = np.array(hist).reshape(self.y,self.x)\n",
    "\n",
    "    def component_plane(self, som_map=None, component=0, color=\"Viridis\", interp = \"best\", title=\"\"):\n",
    "        if som_map is None : return self.plot(self.weights[:,component].reshape(-1,self.x), color=color, interp=interp, title=title)\n",
    "        else:  som_map.data[0].z = self.weights[:,component].reshape(-1, self.x)\n",
    "\n",
    "    def sdh(self, input_vectors: np.ndarray, som_map=None, sdh_type=1, factor=1, color=\"Cividis\", interp = \"best\", title=\"\"):\n",
    "\n",
    "        import heapq\n",
    "        sdh_m = [0] *self.y *self.x\n",
    "\n",
    "        cs=0\n",
    "        for i in range(0,factor): cs += factor-i\n",
    "\n",
    "        for vector in input_vectors:\n",
    "            dist = np.sqrt(np.sum(np.power(self.weights - vector, 2), axis=1))\n",
    "            c = heapq.nsmallest(factor, range(len(dist)), key=dist.__getitem__)\n",
    "            if sdh_type == 1:\n",
    "                for j in range(0,factor):  sdh_m[c[j]] += (factor-j)/cs # normalized\n",
    "            if sdh_type == 2:\n",
    "                for j in range(0,factor): sdh_m[c[j]] += 1.0/dist[c[j]] # based on distance\n",
    "            if sdh_type == 3:\n",
    "                dmin = min(dist)\n",
    "                for j in range(0,factor): sdh_m[c[j]] += 1.0 - (dist[c[j]]-dmin)/(max(dist)-dmin)\n",
    "\n",
    "        if som_map is None : return self.plot(np.array(sdh_m).reshape(-1,self.x), color=color, interp=interp, title=title)\n",
    "        else: som_map.data[0].z = np.array(sdh_m).reshape(-1,self.x)\n",
    "\n",
    "    def project_data(self, input_vectors: np.ndarray, som_m=None):\n",
    "        data_y = []\n",
    "        data_x = []\n",
    "        for v in input_vectors:\n",
    "            position =np.argmin(np.sqrt(np.sum(np.power(self.weights - v, 2), axis=1)))\n",
    "            x,y = position % self.x, position // self.x\n",
    "            data_x.extend([x])\n",
    "            data_y.extend([y])\n",
    "\n",
    "        if som_m is not None : som_m.add_trace(go.Scatter(x=data_x, y=data_y, mode = \"markers\", marker_color=dict(color='rgba(255, 255, 255, 0.8)')))\n",
    "\n",
    "    def time_series(self, input_vectors: np.ndarray, som_m=None, wsize=50): #not tested\n",
    "        data_y = []\n",
    "        data_x = [i for i in range(0,len(idata))]\n",
    "\n",
    "        data_x2 = []\n",
    "        data_y2 = []\n",
    "\n",
    "        qmin = np.Inf\n",
    "        qmax = 0\n",
    "\n",
    "        ps = []\n",
    "        for v in input_vectors:\n",
    "            matrix = np.sqrt(np.sum(np.power(self.weights - v, 2), axis=1))\n",
    "            position = np.argmin(matrix)\n",
    "            qerror = matrix[position]\n",
    "            if qmin>qerror: qmin = qerror\n",
    "            if qmax<qerror: qmax = qerror\n",
    "            ps.append((position, qerror))\n",
    "\n",
    "        markerc=[]\n",
    "        for v in ps:\n",
    "            data_y.extend([v[0]])\n",
    "            rez = v[1]/qmax\n",
    "\n",
    "            markerc.append('rgba(0, 0, 0, '+str(rez)+')')\n",
    "\n",
    "            x,y = v[0] % self.x, v[0] // self.x\n",
    "            if    x==0: y = np.random.uniform(low=y, high=y+.1)\n",
    "            elif  x==self.y-1: y = np.random.uniform(low=y-.1, high=y)\n",
    "            elif  y==0: x = np.random.uniform(low=x, high=x+.1)\n",
    "            elif  y==self.x-1: x = np.random.uniform(low=x-.1, high=x)\n",
    "            else: x,y = np.random.uniform(low=x-.1, high=x+.1), np.random.uniform(low=y-.1, high=y+.1)\n",
    "\n",
    "            data_x2.extend([x])\n",
    "            data_y2.extend([y])\n",
    "\n",
    "        ts_plot = go.FigureWidget(go.Scatter(x=[], y=[], mode = \"markers\", marker_color=markerc, marker=dict(colorscale='Viridis', showscale=True, color=np.random.randn(500))))\n",
    "        ts_plot.update_xaxes(range=[0, wsize])\n",
    "\n",
    "\n",
    "        ts_plot.data[0].x, ts_plot.data[0].y = data_x, data_y\n",
    "        som_m.add_trace(go.Scatter(x=data_x2, y=data_y2, mode = \"markers\",))\n",
    "\n",
    "        som_m.layout.height = 500\n",
    "        ts_plot.layout.height = 500\n",
    "        som_m.layout.width = 500\n",
    "        ts_plot.layout.width = 1300\n",
    "\n",
    "        return HBox([go.FigureWidget(som_m), go.FigureWidget(ts_plot)])\n",
    "\n",
    "    def plot(self, matrix, color=\"Viridis\", interp = \"best\", title=\"\"):\n",
    "        return go.FigureWidget(go.Heatmap(z=matrix, zsmooth=interp, showscale=False, colorscale=color),\n",
    "                               layout=go.Layout(width=self.width, height=self.height,title={'text': title, 'x':0.5}))"
   ]
  },
  {
   "cell_type": "markdown",
   "id": "aging-australian",
   "metadata": {
    "pycharm": {
     "name": "#%% md\n"
    }
   },
   "source": [
    "Below is the (adapted) template code provided in the assignment for parsing SOMs from the SOMToolBox."
   ]
  },
  {
   "cell_type": "code",
   "execution_count": null,
   "id": "israeli-costa",
   "metadata": {
    "jupyter": {
     "outputs_hidden": false
    },
    "pycharm": {
     "name": "#%%\n"
    }
   },
   "outputs": [],
   "source": [
    "import gzip\n",
    "import pandas as pd\n",
    "\n",
    "class SOMToolBoxParser:\n",
    "    @staticmethod\n",
    "    def read_weight_file(filename: str) -> (pd.DataFrame, int, int, int):\n",
    "        if filename[-3:len(filename)] == '.gz':\n",
    "            with gzip.open(filename, 'rb') as file:\n",
    "                df, dim_vec, dim_x, dim_y = SOMToolBoxParser._read_vector_file_to_df(file)\n",
    "        else:\n",
    "            with open(filename, 'rb') as file:\n",
    "                df, dim_vec, dim_x, dim_y = SOMToolBoxParser._read_vector_file_to_df(file)\n",
    "\n",
    "        return df.astype('float64'), dim_vec, dim_x, dim_y\n",
    "\n",
    "\n",
    "    @staticmethod\n",
    "    def _read_vector_file_to_df(file) -> (pd.DataFrame, int, int, int):\n",
    "        df = None\n",
    "        dim_x, dim_y, dim_vec, position = 0, 0, 0, 0\n",
    "        for byte in file:\n",
    "            line = byte.decode('UTF-8')\n",
    "            # get meta-data from vector file\n",
    "            if line.startswith('$'):\n",
    "                split = line.split(' ')\n",
    "                param, val = split[0], split[1]\n",
    "                if param == '$XDIM':\n",
    "                    dim_x = int(val)\n",
    "                elif param == '$YDIM':\n",
    "                    dim_y = int(val)\n",
    "                elif param == '$VEC_DIM':\n",
    "                    dim_vec = int(val)\n",
    "                if dim_x != 0 and dim_y != 0 and dim_vec != 0:\n",
    "                    df = pd.DataFrame(index=range(0, dim_y * dim_x), columns=range(0, dim_vec))\n",
    "            # fill dataframe with values\n",
    "            else:\n",
    "                if df is None:\n",
    "                     raise ValueError('Weight file has missing dimensional information.')\n",
    "                split = line.split(' ')\n",
    "                try:\n",
    "                    df.values[position] = list(np.array(split[0:dim_vec]).astype(float))\n",
    "                    position += 1\n",
    "                except:\n",
    "                    raise ValueError('The input-vector file does not match its unit-dimension.')\n",
    "        return df, dim_vec, dim_x, dim_y"
   ]
  },
  {
   "cell_type": "markdown",
   "id": "maritime-southeast",
   "metadata": {},
   "source": [
    "# Evaluation Report - Example Visualizations\n",
    "\n",
    "Below we visualize the neighborhood graphs on the Iris [1], Chainlink [2] and 10Clusters [2] datasets with different parameters to verify the correctness of our implementation."
   ]
  },
  {
   "cell_type": "markdown",
   "id": "veterinary-viking",
   "metadata": {},
   "source": [
    "## Visualization Examples on Iris Dataset"
   ]
  },
  {
   "cell_type": "code",
   "execution_count": null,
   "id": "considered-might",
   "metadata": {
    "jupyter": {
     "outputs_hidden": false
    },
    "pycharm": {
     "name": "#%%\n"
    }
   },
   "outputs": [],
   "source": [
    "# Example visualization with iris dataset\n",
    "idata, idim, idata_x, idata_y = SOMToolBoxParser.read_weight_file('data/iris/iris.vec')\n",
    "smap, sdim, smap_x, smap_y = SOMToolBoxParser.read_weight_file('data/iris/iris_40_20.wgt.gz')"
   ]
  },
  {
   "cell_type": "code",
   "execution_count": null,
   "id": "banner-chair",
   "metadata": {},
   "outputs": [],
   "source": [
    "# Visualization\n",
    "graphs = [] \n",
    "for k in [1,10]:\n",
    "    viz_SOMToolBox = SomViz(smap.values.reshape(-1, sdim), smap_y, smap_x, 500, 500)\n",
    "    um = viz_SOMToolBox.umatrix(color='viridis', interp=False, title=f'KNN (k={k}) U-matrix SOMToolBox')\n",
    "    neighbourhood_graph = viz_SOMToolBox.neighbourhood_graph(idata.values, 'knn', k=k, base_vis=um)\n",
    "    graphs.append(neighbourhood_graph)\n",
    "\n",
    "HBox(graphs)"
   ]
  },
  {
   "cell_type": "code",
   "execution_count": null,
   "id": "continental-wrapping",
   "metadata": {},
   "outputs": [],
   "source": [
    "# Visualization\n",
    "w, h = 380, 380\n",
    "\n",
    "graphs = []\n",
    "for r in [0.1, 0.4, 0.8]:\n",
    "    viz_SOMToolBox = SomViz(smap.values.reshape(-1, sdim), smap_y, smap_x, w, h)\n",
    "    um = viz_SOMToolBox.umatrix(color='viridis', interp=False, title=f\"Radius (r={r}) U-matrix SOMToolBox\")\n",
    "    neighbourhood_graph = viz_SOMToolBox.neighbourhood_graph(idata.values, 'radius', r=r, base_vis=um)\n",
    "    graphs.append(neighbourhood_graph)\n",
    "    \n",
    "HBox(graphs)"
   ]
  },
  {
   "cell_type": "markdown",
   "id": "separated-custody",
   "metadata": {},
   "source": [
    "## Visualization Examples on ChainLink Dataset"
   ]
  },
  {
   "cell_type": "code",
   "execution_count": null,
   "id": "pleasant-newcastle",
   "metadata": {},
   "outputs": [],
   "source": [
    "# Example visualization with chainlink dataset\n",
    "idata, idim, idata_x, idata_y = SOMToolBoxParser.read_weight_file('data/chainlink/chainlink.vec')\n",
    "smap, sdim, smap_x, smap_y = SOMToolBoxParser.read_weight_file('data/chainlink/Chainlink_40_20.wgt.gz')"
   ]
  },
  {
   "cell_type": "code",
   "execution_count": null,
   "id": "lyric-circulation",
   "metadata": {},
   "outputs": [],
   "source": [
    "# Visualization\n",
    "graphs = [] \n",
    "for k in [1,10]:\n",
    "    viz_SOMToolBox = SomViz(smap.values.reshape(-1, sdim), smap_y, smap_x, 500, 500)\n",
    "    um = viz_SOMToolBox.umatrix(color='viridis', interp=False, title=f'KNN (k={k}) U-matrix SOMToolBox')\n",
    "    neighbourhood_graph = viz_SOMToolBox.neighbourhood_graph(idata.values, 'knn', k=k, base_vis=um)\n",
    "    graphs.append(neighbourhood_graph)\n",
    "\n",
    "HBox(graphs)"
   ]
  },
  {
   "cell_type": "code",
   "execution_count": null,
   "id": "killing-martial",
   "metadata": {},
   "outputs": [],
   "source": [
    "# Visualization\n",
    "w, h = 380, 380\n",
    "\n",
    "graphs = []\n",
    "for r in [0.03, 0.1, 0.2]:\n",
    "    viz_SOMToolBox = SomViz(smap.values.reshape(-1, sdim), smap_y, smap_x, w, h)\n",
    "    um = viz_SOMToolBox.umatrix(color='viridis', interp=False, title=f\"Radius (r={r}) U-matrix SOMToolBox\")\n",
    "    neighbourhood_graph = viz_SOMToolBox.neighbourhood_graph(idata.values, 'radius', r=r, base_vis=um)\n",
    "    graphs.append(neighbourhood_graph)\n",
    "    \n",
    "HBox(graphs)"
   ]
  },
  {
   "cell_type": "markdown",
   "id": "developmental-footage",
   "metadata": {},
   "source": [
    "## Visualization Examples on 10 Clusters Dataset"
   ]
  },
  {
   "cell_type": "code",
   "execution_count": null,
   "id": "dirty-northeast",
   "metadata": {},
   "outputs": [],
   "source": [
    "# Example visualization with chainlink dataset\n",
    "idata, idim, idata_x, idata_y = SOMToolBoxParser.read_weight_file('data/10clusters/10clusters.vec')\n",
    "smap, sdim, smap_x, smap_y = SOMToolBoxParser.read_weight_file('data/10clusters/10Clusters_40_20.wgt.gz')"
   ]
  },
  {
   "cell_type": "code",
   "execution_count": null,
   "id": "substantial-stone",
   "metadata": {},
   "outputs": [],
   "source": [
    "# Visualization\n",
    "graphs = [] \n",
    "for k in [1,10]:\n",
    "    viz_SOMToolBox = SomViz(smap.values.reshape(-1, sdim), smap_y, smap_x, 500, 500)\n",
    "    um = viz_SOMToolBox.umatrix(color='viridis', interp=False, title=f'KNN (k={k}) U-matrix SOMToolBox')\n",
    "    neighbourhood_graph = viz_SOMToolBox.neighbourhood_graph(idata.values, 'knn', k=k, base_vis=um)\n",
    "    graphs.append(neighbourhood_graph)\n",
    "\n",
    "HBox(graphs)"
   ]
  },
  {
   "cell_type": "code",
   "execution_count": null,
   "id": "disabled-coast",
   "metadata": {},
   "outputs": [],
   "source": [
    "# Visualization\n",
    "w, h = 380, 380\n",
    "\n",
    "graphs = []\n",
    "for r in [0.03, 0.1, 0.5]:\n",
    "    viz_SOMToolBox = SomViz(smap.values.reshape(-1, sdim), smap_y, smap_x, w, h)\n",
    "    um = viz_SOMToolBox.umatrix(color='viridis', interp=False, title=f\"Radius (r={r}) U-matrix SOMToolBox\")\n",
    "    neighbourhood_graph = viz_SOMToolBox.neighbourhood_graph(idata.values, 'radius', r=r, base_vis=um)\n",
    "    graphs.append(neighbourhood_graph)\n",
    "    \n",
    "HBox(graphs)"
   ]
  },
  {
   "cell_type": "markdown",
   "id": "veterinary-composer",
   "metadata": {
    "pycharm": {
     "name": "#%% md\n"
    }
   },
   "source": [
    "# Evaluation - Comparison\n",
    "\n",
    "In the following section, we will evaluate our implementation using the Chainlink dataset, and the 10-clusters dataset. For the images, run the whole notebook or check the pdf submission."
   ]
  },
  {
   "cell_type": "markdown",
   "id": "secure-lyric",
   "metadata": {},
   "source": [
    "## Plot Generator\n",
    "\n",
    "The following is just there to generate plots for the comparison shown in \"Results\". All other plots are taken from the examples above."
   ]
  },
  {
   "cell_type": "code",
   "execution_count": null,
   "id": "requested-substance",
   "metadata": {},
   "outputs": [],
   "source": [
    "idata, idim, idata_x, idata_y = SOMToolBoxParser.read_weight_file('data/chainlink/chainlink.vec')\n",
    "smap, sdim, smap_x, smap_y = SOMToolBoxParser.read_weight_file('data/chainlink/Chainlink_100_60.wgt.gz')"
   ]
  },
  {
   "cell_type": "code",
   "execution_count": null,
   "id": "arranged-reputation",
   "metadata": {},
   "outputs": [],
   "source": [
    "# Visualization\n",
    "graphs = [] \n",
    "for k in [1,3,8]:\n",
    "    viz_SOMToolBox = SomViz(smap.values.reshape(-1, sdim), smap_y, smap_x, 400, 400)\n",
    "    um = viz_SOMToolBox.umatrix(color='viridis', interp=False, title=f'KNN (k={k}) U-matrix SOMToolBox')\n",
    "    neighbourhood_graph = viz_SOMToolBox.neighbourhood_graph(idata.values, 'knn', k=k, base_vis=um)\n",
    "    graphs.append(neighbourhood_graph)\n",
    "\n",
    "HBox(graphs)"
   ]
  },
  {
   "cell_type": "code",
   "execution_count": null,
   "id": "ethical-interface",
   "metadata": {},
   "outputs": [],
   "source": [
    "# Visualization\n",
    "graphs = [] \n",
    "for r in [0.1, 0.2, 0.3]:\n",
    "    viz_SOMToolBox = SomViz(smap.values.reshape(-1, sdim), smap_y, smap_x, 400, 400)\n",
    "    um = viz_SOMToolBox.umatrix(color='viridis', interp=False, title=f'Radius (r={r}) U-matrix SOMToolBox')\n",
    "    neighbourhood_graph = viz_SOMToolBox.neighbourhood_graph(idata.values, 'radius', r=r, base_vis=um)\n",
    "    graphs.append(neighbourhood_graph)\n",
    "\n",
    "HBox(graphs)"
   ]
  },
  {
   "cell_type": "code",
   "execution_count": null,
   "id": "separate-above",
   "metadata": {},
   "outputs": [],
   "source": [
    "smap, sdim, smap_x, smap_y = SOMToolBoxParser.read_weight_file('data/chainlink/Chainlink_40_20.wgt.gz')"
   ]
  },
  {
   "cell_type": "code",
   "execution_count": null,
   "id": "suspected-bikini",
   "metadata": {},
   "outputs": [],
   "source": [
    "# Visualization\n",
    "graphs = [] \n",
    "for k in [1,3,8]:\n",
    "    viz_SOMToolBox = SomViz(smap.values.reshape(-1, sdim), smap_y, smap_x, 400, 400)\n",
    "    um = viz_SOMToolBox.umatrix(color='viridis', interp=False, title=f'KNN (k={k}) U-matrix SOMToolBox')\n",
    "    neighbourhood_graph = viz_SOMToolBox.neighbourhood_graph(idata.values, 'knn', k=k, base_vis=um)\n",
    "    graphs.append(neighbourhood_graph)\n",
    "\n",
    "HBox(graphs)"
   ]
  },
  {
   "cell_type": "code",
   "execution_count": null,
   "id": "bronze-payroll",
   "metadata": {},
   "outputs": [],
   "source": [
    "# Visualization\n",
    "graphs = [] \n",
    "for r in [0.1, 0.2, 0.3]:\n",
    "    viz_SOMToolBox = SomViz(smap.values.reshape(-1, sdim), smap_y, smap_x, 400, 400)\n",
    "    um = viz_SOMToolBox.umatrix(color='viridis', interp=False, title=f'Radius (r={r}) U-matrix SOMToolBox')\n",
    "    neighbourhood_graph = viz_SOMToolBox.neighbourhood_graph(idata.values, 'radius', r=r, base_vis=um)\n",
    "    graphs.append(neighbourhood_graph)\n",
    "\n",
    "HBox(graphs)"
   ]
  },
  {
   "cell_type": "code",
   "execution_count": null,
   "id": "little-facing",
   "metadata": {},
   "outputs": [],
   "source": [
    "idata, idim, idata_x, idata_y = SOMToolBoxParser.read_weight_file('data/10clusters/10clusters.vec')\n",
    "smap, sdim, smap_x, smap_y = SOMToolBoxParser.read_weight_file('data/10clusters/10Clusters_100_60.wgt.gz')"
   ]
  },
  {
   "cell_type": "code",
   "execution_count": null,
   "id": "tracked-station",
   "metadata": {},
   "outputs": [],
   "source": [
    "# Visualization\n",
    "graphs = [] \n",
    "for k in [1,3,8]:\n",
    "    viz_SOMToolBox = SomViz(smap.values.reshape(-1, sdim), smap_y, smap_x, 400, 400)\n",
    "    um = viz_SOMToolBox.umatrix(color='viridis', interp=False, title=f'KNN (k={k}) U-matrix SOMToolBox')\n",
    "    neighbourhood_graph = viz_SOMToolBox.neighbourhood_graph(idata.values, 'knn', k=k, base_vis=um)\n",
    "    graphs.append(neighbourhood_graph)\n",
    "\n",
    "HBox(graphs)"
   ]
  },
  {
   "cell_type": "code",
   "execution_count": null,
   "id": "regular-disaster",
   "metadata": {},
   "outputs": [],
   "source": [
    "# Visualization\n",
    "graphs = [] \n",
    "for r in [0.1, 0.2, 0.3]:\n",
    "    viz_SOMToolBox = SomViz(smap.values.reshape(-1, sdim), smap_y, smap_x, 400, 400)\n",
    "    um = viz_SOMToolBox.umatrix(color='viridis', interp=False, title=f'Radius (r={r}) U-matrix SOMToolBox')\n",
    "    neighbourhood_graph = viz_SOMToolBox.neighbourhood_graph(idata.values, 'radius', r=r, base_vis=um)\n",
    "    graphs.append(neighbourhood_graph)\n",
    "\n",
    "HBox(graphs)"
   ]
  },
  {
   "cell_type": "code",
   "execution_count": null,
   "id": "abroad-pacific",
   "metadata": {},
   "outputs": [],
   "source": [
    "smap, sdim, smap_x, smap_y = SOMToolBoxParser.read_weight_file('data/10clusters/10Clusters_40_20.wgt.gz')"
   ]
  },
  {
   "cell_type": "code",
   "execution_count": null,
   "id": "heard-program",
   "metadata": {},
   "outputs": [],
   "source": [
    "# Visualization\n",
    "graphs = [] \n",
    "for k in [1,3,8]:\n",
    "    viz_SOMToolBox = SomViz(smap.values.reshape(-1, sdim), smap_y, smap_x, 400, 400)\n",
    "    um = viz_SOMToolBox.umatrix(color='viridis', interp=False, title=f'KNN (k={k}) U-matrix SOMToolBox')\n",
    "    neighbourhood_graph = viz_SOMToolBox.neighbourhood_graph(idata.values, 'knn', k=k, base_vis=um)\n",
    "    graphs.append(neighbourhood_graph)\n",
    "\n",
    "HBox(graphs)"
   ]
  },
  {
   "cell_type": "code",
   "execution_count": null,
   "id": "brutal-engine",
   "metadata": {
    "scrolled": false
   },
   "outputs": [],
   "source": [
    "# Visualization\n",
    "graphs = [] \n",
    "for r in [0.1, 0.2, 0.3]:\n",
    "    viz_SOMToolBox = SomViz(smap.values.reshape(-1, sdim), smap_y, smap_x, 400, 400)\n",
    "    um = viz_SOMToolBox.umatrix(color='viridis', interp=False, title=f'Radius (r={r}) U-matrix SOMToolBox')\n",
    "    neighbourhood_graph = viz_SOMToolBox.neighbourhood_graph(idata.values, 'radius', r=r, base_vis=um)\n",
    "    graphs.append(neighbourhood_graph)\n",
    "\n",
    "HBox(graphs)"
   ]
  }
 ],
 "metadata": {
  "kernelspec": {
   "display_name": "env-sos",
   "language": "python",
   "name": "env-sos"
  },
  "language_info": {
   "codemirror_mode": {
    "name": "ipython",
    "version": 3
   },
   "file_extension": ".py",
   "mimetype": "text/x-python",
   "name": "python",
   "nbconvert_exporter": "python",
   "pygments_lexer": "ipython3",
   "version": "3.7.6"
  }
 },
 "nbformat": 4,
 "nbformat_minor": 5
}